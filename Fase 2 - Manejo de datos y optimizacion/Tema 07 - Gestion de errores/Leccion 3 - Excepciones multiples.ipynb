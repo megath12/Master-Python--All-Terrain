{
 "cells": [
  {
   "cell_type": "code",
   "execution_count": 7,
   "metadata": {},
   "outputs": [
    {
     "name": "stdout",
     "output_type": "stream",
     "text": [
      "Escribe numero: 3\n",
      "TypeError\n"
     ]
    }
   ],
   "source": [
    "try:\n",
    "    n=input(\"Escribe numero: \")\n",
    "    n/5\n",
    "except Exception as e:\n",
    "    print( type(e).__name__)"
   ]
  },
  {
   "cell_type": "code",
   "execution_count": 1,
   "metadata": {},
   "outputs": [
    {
     "name": "stdout",
     "output_type": "stream",
     "text": [
      "Escribe numero: 0\n",
      "No escribir 0\n"
     ]
    }
   ],
   "source": [
    "try:\n",
    "    n=float(input(\"Escribe numero: \"))\n",
    "    5/n\n",
    "except TypeError:\n",
    "    print(\"No se puede dividir el numero por una cadena \")\n",
    "except ValueError:\n",
    "    print(\"Debes introducir una cadena que sea un numero \")\n",
    "except ZeroDivisionError:\n",
    "    print(\"No escribir 0\")\n",
    "except Exception as e:\n",
    "    print( type(e).__name__)"
   ]
  },
  {
   "cell_type": "markdown",
   "metadata": {},
   "source": [
    "Los principales excepciones definidas en Python son:\n",
    "\n",
    "TypeError : Ocurre cuando se aplica una operación o función a un dato del tipo inapropiado.\n",
    "\n",
    "ZeroDivisionError : Ocurre cuando se itenta dividir por cero.\n",
    "\n",
    "OverflowError : Ocurre cuando un cálculo excede el límite para un tipo de dato numérico.\n",
    "\n",
    "IndexError : Ocurre cuando se intenta acceder a una secuencia con un índice que no existe.\n",
    "\n",
    "KeyError : Ocurre cuando se intenta acceder a un diccionario con una clave que no existe.\n",
    "\n",
    "FileNotFoundError : Ocurre cuando se intenta acceder a un fichero que no existe en la ruta indicada.\n",
    "\n",
    "ImportError : Ocurre cuando falla la importación de un módulo."
   ]
  },
  {
   "cell_type": "code",
   "execution_count": null,
   "metadata": {},
   "outputs": [],
   "source": []
  }
 ],
 "metadata": {
  "kernelspec": {
   "display_name": "Python 3 (ipykernel)",
   "language": "python",
   "name": "python3"
  },
  "language_info": {
   "codemirror_mode": {
    "name": "ipython",
    "version": 3
   },
   "file_extension": ".py",
   "mimetype": "text/x-python",
   "name": "python",
   "nbconvert_exporter": "python",
   "pygments_lexer": "ipython3",
   "version": "3.9.10"
  }
 },
 "nbformat": 4,
 "nbformat_minor": 1
}
