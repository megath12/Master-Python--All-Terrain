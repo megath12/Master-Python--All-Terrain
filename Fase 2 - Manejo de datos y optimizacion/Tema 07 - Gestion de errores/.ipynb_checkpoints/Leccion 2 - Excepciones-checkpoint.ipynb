{
 "cells": [
  {
   "cell_type": "code",
   "execution_count": 1,
   "metadata": {},
   "outputs": [
    {
     "name": "stdout",
     "output_type": "stream",
     "text": [
      "Introduce un número: 2\n",
      "2.0/4 = 0.5\n"
     ]
    }
   ],
   "source": [
    "n = float(input(\"Introduce un número: \"))\n",
    "m = 4\n",
    "print(\"{}/{} = {}\".format(n,m,n/m))"
   ]
  },
  {
   "cell_type": "code",
   "execution_count": 3,
   "metadata": {},
   "outputs": [
    {
     "name": "stdout",
     "output_type": "stream",
     "text": [
      "Introduce un número: d\n",
      "No, introduce un numero \n",
      "Hecho en el intento  0\n",
      "Introduce un número: h\n",
      "No, introduce un numero \n",
      "Hecho en el intento  1\n",
      "Introduce un número: j\n",
      "No, introduce un numero \n",
      "Hecho en el intento  2\n",
      "Introduce un número: d\n",
      "No, introduce un numero \n",
      "Hecho en el intento  3\n",
      "Introduce un número: d\n",
      "No, introduce un numero \n",
      "Hecho en el intento  4\n",
      "Introduce un número: d\n",
      "No, introduce un numero \n",
      "Hecho en el intento  5\n",
      "Introduce un número: f\n",
      "No, introduce un numero \n",
      "Hecho en el intento  6\n",
      "Introduce un número: f\n",
      "No, introduce un numero \n",
      "Hecho en el intento  7\n",
      "Introduce un número: 3\n",
      "3.0/4 = 0.75\n",
      "Va bien \n",
      "Hecho en el intento  8\n"
     ]
    }
   ],
   "source": [
    "cn=0;\n",
    "while True:\n",
    "    try:\n",
    "        n = float(input(\"Introduce un número: \"))\n",
    "        m = 4\n",
    "        print(\"{}/{} = {}\".format(n,m,n/m))\n",
    "    except:\n",
    "            print(\"No, introduce un numero \")\n",
    "    else:\n",
    "        print(\"Va bien \")\n",
    "        break\n",
    "    finally:\n",
    "        print(\"Hecho en el intento \",cn)\n",
    "        cn+=1"
   ]
  },
  {
   "cell_type": "code",
   "execution_count": 4,
   "metadata": {},
   "outputs": [
    {
     "name": "stdout",
     "output_type": "stream",
     "text": [
      "No se puede dividir entre cero\n"
     ]
    }
   ],
   "source": [
    "# completa el ejercicio\n",
    "def dividir(a, b):\n",
    "    try:\n",
    "        a/b\n",
    "        return a/b\n",
    "    except:\n",
    "        print(\"No se puede dividir entre cero\")\n",
    "        \n",
    "dividir(3,0)\n"
   ]
  },
  {
   "cell_type": "code",
   "execution_count": null,
   "metadata": {},
   "outputs": [],
   "source": []
  }
 ],
 "metadata": {
  "kernelspec": {
   "display_name": "Python 3 (ipykernel)",
   "language": "python",
   "name": "python3"
  },
  "language_info": {
   "codemirror_mode": {
    "name": "ipython",
    "version": 3
   },
   "file_extension": ".py",
   "mimetype": "text/x-python",
   "name": "python",
   "nbconvert_exporter": "python",
   "pygments_lexer": "ipython3",
   "version": "3.9.10"
  }
 },
 "nbformat": 4,
 "nbformat_minor": 1
}
