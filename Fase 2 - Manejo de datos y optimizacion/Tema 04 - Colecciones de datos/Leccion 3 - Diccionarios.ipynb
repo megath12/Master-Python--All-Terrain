{
 "cells": [
  {
   "cell_type": "code",
   "execution_count": 4,
   "metadata": {},
   "outputs": [],
   "source": [
    "l={\"azul\":\"blue\"\n",
    ",\"verde\":\"gren\",\n",
    "   \"red\":\"rojo\",\n",
    "   \"yellow\":\"amarillo\"\n",
    "  }"
   ]
  },
  {
   "cell_type": "code",
   "execution_count": 5,
   "metadata": {},
   "outputs": [
    {
     "data": {
      "text/plain": [
       "'rojo'"
      ]
     },
     "execution_count": 5,
     "metadata": {},
     "output_type": "execute_result"
    }
   ],
   "source": [
    "l[\"red\"]"
   ]
  },
  {
   "cell_type": "code",
   "execution_count": 6,
   "metadata": {},
   "outputs": [
    {
     "data": {
      "text/plain": [
       "4"
      ]
     },
     "execution_count": 6,
     "metadata": {},
     "output_type": "execute_result"
    }
   ],
   "source": [
    "len(l)"
   ]
  },
  {
   "cell_type": "code",
   "execution_count": 9,
   "metadata": {},
   "outputs": [],
   "source": [
    "l[\"azul\"]=\"acqua\"\n"
   ]
  },
  {
   "cell_type": "code",
   "execution_count": 10,
   "metadata": {},
   "outputs": [
    {
     "name": "stdout",
     "output_type": "stream",
     "text": [
      "{'azul': 'acqua', 'verde': 'gren', 'red': 'rojo', 'yellow': 'amarillo'}\n"
     ]
    }
   ],
   "source": [
    "print(l)"
   ]
  },
  {
   "cell_type": "code",
   "execution_count": 12,
   "metadata": {},
   "outputs": [],
   "source": [
    "del(l[\"yellow\"])"
   ]
  },
  {
   "cell_type": "code",
   "execution_count": 13,
   "metadata": {},
   "outputs": [
    {
     "data": {
      "text/plain": [
       "{'azul': 'acqua', 'verde': 'gren', 'red': 'rojo'}"
      ]
     },
     "execution_count": 13,
     "metadata": {},
     "output_type": "execute_result"
    }
   ],
   "source": [
    "l"
   ]
  },
  {
   "cell_type": "code",
   "execution_count": 16,
   "metadata": {},
   "outputs": [],
   "source": [
    "l={\"azul\":11,\n",
    "   \"verde\":43,\n",
    "   \"red\":25,\n",
    "   \"yellow\":21\n",
    "  }"
   ]
  },
  {
   "cell_type": "code",
   "execution_count": 18,
   "metadata": {},
   "outputs": [
    {
     "data": {
      "text/plain": [
       "12"
      ]
     },
     "execution_count": 18,
     "metadata": {},
     "output_type": "execute_result"
    }
   ],
   "source": [
    "l[\"azul\"]+1"
   ]
  },
  {
   "cell_type": "code",
   "execution_count": 20,
   "metadata": {},
   "outputs": [
    {
     "name": "stdout",
     "output_type": "stream",
     "text": [
      "azul\n",
      "verde\n",
      "red\n",
      "yellow\n",
      "11\n",
      "43\n",
      "25\n",
      "21\n"
     ]
    }
   ],
   "source": [
    "for i2 in l:\n",
    "    print(i2)\n",
    "for i in l:\n",
    "    print(l[i])\n"
   ]
  },
  {
   "cell_type": "code",
   "execution_count": 22,
   "metadata": {},
   "outputs": [
    {
     "name": "stdout",
     "output_type": "stream",
     "text": [
      "azul 11\n",
      "verde 43\n",
      "red 25\n",
      "yellow 21\n"
     ]
    }
   ],
   "source": [
    "for i in l:\n",
    "    print(i,l[i])"
   ]
  },
  {
   "cell_type": "code",
   "execution_count": 25,
   "metadata": {},
   "outputs": [
    {
     "name": "stdout",
     "output_type": "stream",
     "text": [
      "azul 11\n",
      "verde 43\n",
      "red 25\n",
      "yellow 21\n"
     ]
    }
   ],
   "source": [
    "for i,v in l.items():\n",
    "    print(i,v)"
   ]
  },
  {
   "cell_type": "code",
   "execution_count": 27,
   "metadata": {},
   "outputs": [],
   "source": [
    "p=[]\n",
    "gan={\"nombre\":\"gandalf\",\"tipo\":\"mago\"}\n",
    "p.append(gan)"
   ]
  },
  {
   "cell_type": "code",
   "execution_count": 28,
   "metadata": {},
   "outputs": [
    {
     "data": {
      "text/plain": [
       "[{'nombre': 'gandalf', 'tipo': 'mago'}]"
      ]
     },
     "execution_count": 28,
     "metadata": {},
     "output_type": "execute_result"
    }
   ],
   "source": []
  },
  {
   "cell_type": "code",
   "execution_count": 29,
   "metadata": {},
   "outputs": [],
   "source": [
    "lego={\"nombre\":\"legolas\",\"tipo\":\"arquero\"}\n",
    "p.append(lego)"
   ]
  },
  {
   "cell_type": "code",
   "execution_count": 30,
   "metadata": {},
   "outputs": [],
   "source": [
    "mon={\"nombre\":\"diablo\",\"tipo\":\"demonio\"}\n",
    "p.append(mon)"
   ]
  },
  {
   "cell_type": "code",
   "execution_count": 31,
   "metadata": {},
   "outputs": [
    {
     "data": {
      "text/plain": [
       "[{'nombre': 'gandalf', 'tipo': 'mago'},\n",
       " {'nombre': 'legolas', 'tipo': 'arquero'},\n",
       " {'nombre': 'diablo', 'tipo': 'demonio'}]"
      ]
     },
     "execution_count": 31,
     "metadata": {},
     "output_type": "execute_result"
    }
   ],
   "source": [
    "p\n"
   ]
  },
  {
   "cell_type": "code",
   "execution_count": 33,
   "metadata": {},
   "outputs": [
    {
     "name": "stdout",
     "output_type": "stream",
     "text": [
      "gandalf\n",
      "legolas\n",
      "diablo\n"
     ]
    }
   ],
   "source": [
    "for i in p:\n",
    "    print(i[\"nombre\"])"
   ]
  },
  {
   "cell_type": "code",
   "execution_count": 36,
   "metadata": {},
   "outputs": [
    {
     "name": "stdout",
     "output_type": "stream",
     "text": [
      "{'caballo': 'horse', 'perro': 'dog', 'gato': 'cat'}\n"
     ]
    }
   ],
   "source": [
    "# Variables del ejercicio (no modifiques esta línea)\n",
    "animales = {\"caballo\":\"\", \"vaca\":\"\",\"perro\":\"dog\",\"gato\":\"cat\",\"rana\":\"frog\"}\n",
    "animales[\"caballo\"]=\"horse\"\n",
    "animales[\"vaca\"]=\"cow\"\n",
    "del(animales[\"rana\"])\n",
    "del(animales[\"vaca\"])\n",
    "# completa el ejercicio\n",
    "print(animales)"
   ]
  },
  {
   "cell_type": "code",
   "execution_count": null,
   "metadata": {},
   "outputs": [],
   "source": []
  }
 ],
 "metadata": {
  "kernelspec": {
   "display_name": "Python 3 (ipykernel)",
   "language": "python",
   "name": "python3"
  },
  "language_info": {
   "codemirror_mode": {
    "name": "ipython",
    "version": 3
   },
   "file_extension": ".py",
   "mimetype": "text/x-python",
   "name": "python",
   "nbconvert_exporter": "python",
   "pygments_lexer": "ipython3",
   "version": "3.9.10"
  }
 },
 "nbformat": 4,
 "nbformat_minor": 1
}
