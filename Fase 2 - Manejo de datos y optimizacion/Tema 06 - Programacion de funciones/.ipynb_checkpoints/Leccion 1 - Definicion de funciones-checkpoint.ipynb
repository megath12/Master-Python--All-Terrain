{
 "cells": [
  {
   "cell_type": "code",
   "execution_count": 2,
   "metadata": {},
   "outputs": [
    {
     "name": "stdout",
     "output_type": "stream",
     "text": [
      "El promedio de los numeros es 4.5\n"
     ]
    }
   ],
   "source": [
    "def promedio(A,B):\n",
    "    return (A+B)/2 \n",
    "j=promedio(3,6) \n",
    "print(f\"El promedio de los numeros es {j}\")"
   ]
  },
  {
   "cell_type": "code",
   "execution_count": 9,
   "metadata": {},
   "outputs": [
    {
     "name": "stdout",
     "output_type": "stream",
     "text": [
      "A aquellas que abrieron su coraza traeles suerte\n"
     ]
    }
   ],
   "source": [
    "def letras():\n",
    "    print(\"A aquellas que abrieron su coraza traeles suerte\")\n",
    "    \n",
    "letras()"
   ]
  },
  {
   "cell_type": "code",
   "execution_count": 12,
   "metadata": {},
   "outputs": [
    {
     "name": "stdout",
     "output_type": "stream",
     "text": [
      "Tabla del 7\n",
      " 0 x 7 es 0\n",
      " 1 x 7 es 7\n",
      " 2 x 7 es 14\n",
      " 3 x 7 es 21\n",
      " 4 x 7 es 28\n",
      " 5 x 7 es 35\n",
      " 6 x 7 es 42\n",
      " 7 x 7 es 49\n",
      " 8 x 7 es 56\n",
      " 9 x 7 es 63\n",
      " 10 x 7 es 70\n"
     ]
    }
   ],
   "source": [
    "def tabla(a):\n",
    "    print(\"Tabla del {va}\".format(va=a))\n",
    "    for i in range(11):\n",
    "        print(f\" {i} x {a} es {i*a}\")\n",
    "tabla(7)    "
   ]
  },
  {
   "cell_type": "code",
   "execution_count": 5,
   "metadata": {},
   "outputs": [
    {
     "name": "stdout",
     "output_type": "stream",
     "text": [
      "592\n"
     ]
    }
   ],
   "source": [
    "def gusa(a):\n",
    "    print(l)\n",
    "l=592\n",
    "gusa(l)"
   ]
  },
  {
   "cell_type": "code",
   "execution_count": 6,
   "metadata": {},
   "outputs": [
    {
     "ename": "NameError",
     "evalue": "name 'l2' is not defined",
     "output_type": "error",
     "traceback": [
      "\u001b[1;31m---------------------------------------------------------------------------\u001b[0m",
      "\u001b[1;31mNameError\u001b[0m                                 Traceback (most recent call last)",
      "Input \u001b[1;32mIn [6]\u001b[0m, in \u001b[0;36m<module>\u001b[1;34m\u001b[0m\n\u001b[0;32m      1\u001b[0m \u001b[38;5;28;01mdef\u001b[39;00m \u001b[38;5;21mgusa\u001b[39m(a):\n\u001b[0;32m      2\u001b[0m     \u001b[38;5;28mprint\u001b[39m(l)\n\u001b[1;32m----> 3\u001b[0m gusa(\u001b[43ml2\u001b[49m)\n\u001b[0;32m      4\u001b[0m l2\u001b[38;5;241m=\u001b[39m\u001b[38;5;241m592\u001b[39m\n",
      "\u001b[1;31mNameError\u001b[0m: name 'l2' is not defined"
     ]
    }
   ],
   "source": [
    "def gusa(a):\n",
    "    print(l)\n",
    "gusa(l2)\n",
    "l2=592"
   ]
  },
  {
   "cell_type": "code",
   "execution_count": null,
   "metadata": {},
   "outputs": [],
   "source": []
  }
 ],
 "metadata": {
  "kernelspec": {
   "display_name": "Python 3 (ipykernel)",
   "language": "python",
   "name": "python3"
  },
  "language_info": {
   "codemirror_mode": {
    "name": "ipython",
    "version": 3
   },
   "file_extension": ".py",
   "mimetype": "text/x-python",
   "name": "python",
   "nbconvert_exporter": "python",
   "pygments_lexer": "ipython3",
   "version": "3.9.10"
  }
 },
 "nbformat": 4,
 "nbformat_minor": 1
}
