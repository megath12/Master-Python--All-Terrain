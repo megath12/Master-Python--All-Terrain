{
 "cells": [
  {
   "cell_type": "code",
   "execution_count": 6,
   "metadata": {},
   "outputs": [
    {
     "name": "stdout",
     "output_type": "stream",
     "text": [
      "{'n': 21, 'p': 'asdads', 's': '+sds'}\n"
     ]
    }
   ],
   "source": [
    "#Hacer una biblioteca\n",
    "\n",
    "def inde(**kwargs):\n",
    "    print(kwargs)\n",
    "inde(n=21,p=\"asdads\",s=\"+sds\")"
   ]
  },
  {
   "cell_type": "code",
   "execution_count": 8,
   "metadata": {},
   "outputs": [
    {
     "name": "stdout",
     "output_type": "stream",
     "text": [
      "n\n",
      "p\n",
      "s\n"
     ]
    }
   ],
   "source": [
    "\n",
    "def inde(**kwargs):\n",
    "    for sd in kwargs:\n",
    "        print(sd[:])\n",
    "inde(n=21,p=\"asdads\",s=\"+sds\")"
   ]
  },
  {
   "cell_type": "code",
   "execution_count": 15,
   "metadata": {},
   "outputs": [
    {
     "name": "stdout",
     "output_type": "stream",
     "text": [
      "n  :  21\n",
      "p  :  asdads\n",
      "s  :  +sds\n"
     ]
    }
   ],
   "source": [
    "def inde(**kwargs):\n",
    "    for sd in kwargs:\n",
    "        print(sd,\" : \",kwargs[sd])\n",
    "inde(n=21,p=\"asdads\",s=\"+sds\")"
   ]
  },
  {
   "cell_type": "code",
   "execution_count": 2,
   "metadata": {},
   "outputs": [
    {
     "name": "stdout",
     "output_type": "stream",
     "text": [
      "1\n",
      "dsaad\n",
      "[1, 2, 0, 4, 5]\n"
     ]
    }
   ],
   "source": [
    "def funid(*args):\n",
    "    for ty in args:\n",
    "        print(ty)\n",
    "funid(1,\"dsaad\",[1,2,0,4,5])"
   ]
  },
  {
   "cell_type": "code",
   "execution_count": null,
   "metadata": {},
   "outputs": [],
   "source": []
  }
 ],
 "metadata": {
  "kernelspec": {
   "display_name": "Python 3 (ipykernel)",
   "language": "python",
   "name": "python3"
  },
  "language_info": {
   "codemirror_mode": {
    "name": "ipython",
    "version": 3
   },
   "file_extension": ".py",
   "mimetype": "text/x-python",
   "name": "python",
   "nbconvert_exporter": "python",
   "pygments_lexer": "ipython3",
   "version": "3.9.10"
  }
 },
 "nbformat": 4,
 "nbformat_minor": 1
}
