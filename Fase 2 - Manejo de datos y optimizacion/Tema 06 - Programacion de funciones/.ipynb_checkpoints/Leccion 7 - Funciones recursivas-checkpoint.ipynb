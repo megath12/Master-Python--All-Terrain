{
 "cells": [
  {
   "cell_type": "code",
   "execution_count": 7,
   "metadata": {},
   "outputs": [],
   "source": [
    "def cuen_atras(num):\n",
    "    print(num)\n",
    "    num-=1\n",
    "    if num>0:\n",
    "        cuen_atras(num)\n",
    "    else:\n",
    "        print(\"Finish\")\n",
    "    print(\"Fin numero\",num)"
   ]
  },
  {
   "cell_type": "code",
   "execution_count": 8,
   "metadata": {},
   "outputs": [
    {
     "name": "stdout",
     "output_type": "stream",
     "text": [
      "9\n",
      "8\n",
      "7\n",
      "6\n",
      "5\n",
      "4\n",
      "3\n",
      "2\n",
      "1\n",
      "Finish\n",
      "Fin numero 0\n",
      "Fin numero 1\n",
      "Fin numero 2\n",
      "Fin numero 3\n",
      "Fin numero 4\n",
      "Fin numero 5\n",
      "Fin numero 6\n",
      "Fin numero 7\n",
      "Fin numero 8\n"
     ]
    }
   ],
   "source": [
    "cuen_atras(9)"
   ]
  },
  {
   "cell_type": "code",
   "execution_count": 12,
   "metadata": {},
   "outputs": [
    {
     "name": "stdout",
     "output_type": "stream",
     "text": [
      "3\n",
      "2\n",
      "1\n",
      "El total es:  6\n"
     ]
    }
   ],
   "source": [
    "# Completa el ejercicio\n",
    "def sumatorio(numero):\n",
    "    if numero>0:\n",
    "        print(numero)\n",
    "        numero=numero+sumatorio(numero-1)\n",
    "    return numero\n",
    "print(\"El total es: \",sumatorio(3))"
   ]
  },
  {
   "cell_type": "code",
   "execution_count": null,
   "metadata": {},
   "outputs": [],
   "source": []
  }
 ],
 "metadata": {
  "kernelspec": {
   "display_name": "Python 3 (ipykernel)",
   "language": "python",
   "name": "python3"
  },
  "language_info": {
   "codemirror_mode": {
    "name": "ipython",
    "version": 3
   },
   "file_extension": ".py",
   "mimetype": "text/x-python",
   "name": "python",
   "nbconvert_exporter": "python",
   "pygments_lexer": "ipython3",
   "version": "3.9.10"
  }
 },
 "nbformat": 4,
 "nbformat_minor": 1
}
