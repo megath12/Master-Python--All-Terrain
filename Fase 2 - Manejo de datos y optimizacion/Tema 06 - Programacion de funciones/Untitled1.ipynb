{
 "cells": [
  {
   "cell_type": "code",
   "execution_count": 1,
   "id": "4344f5fd",
   "metadata": {},
   "outputs": [
    {
     "name": "stdout",
     "output_type": "stream",
     "text": [
      "10 5\n"
     ]
    }
   ],
   "source": [
    "a=5\n",
    "b=a\n",
    "a=10\n",
    "print(a,b)"
   ]
  },
  {
   "cell_type": "code",
   "execution_count": 2,
   "id": "772ec187",
   "metadata": {},
   "outputs": [
    {
     "name": "stdout",
     "output_type": "stream",
     "text": [
      "[111, 3, 5, 7, 5, 3, 4, 9, 0] [111, 3, 5, 7, 5, 3, 4, 9, 0]\n"
     ]
    }
   ],
   "source": [
    "a=[1,3,5,7,5,3,4,9,0]\n",
    "b=a\n",
    "a[0]=111\n",
    "print(a,b)"
   ]
  },
  {
   "cell_type": "code",
   "execution_count": 3,
   "id": "a7e4abf1",
   "metadata": {},
   "outputs": [],
   "source": [
    "# LAS LISTAS TRABAJAN CON REFERENCIAS "
   ]
  },
  {
   "cell_type": "code",
   "execution_count": 6,
   "id": "3c35d905",
   "metadata": {},
   "outputs": [],
   "source": [
    "def memoria(obj):\n",
    "    print(f\"hex{id(obj)}\")"
   ]
  },
  {
   "cell_type": "code",
   "execution_count": 7,
   "id": "7eb98201",
   "metadata": {},
   "outputs": [
    {
     "name": "stdout",
     "output_type": "stream",
     "text": [
      "hex1762244284672\n"
     ]
    }
   ],
   "source": [
    "memoria(a)"
   ]
  },
  {
   "cell_type": "code",
   "execution_count": null,
   "id": "98ae7e23",
   "metadata": {},
   "outputs": [],
   "source": []
  }
 ],
 "metadata": {
  "kernelspec": {
   "display_name": "Python 3 (ipykernel)",
   "language": "python",
   "name": "python3"
  },
  "language_info": {
   "codemirror_mode": {
    "name": "ipython",
    "version": 3
   },
   "file_extension": ".py",
   "mimetype": "text/x-python",
   "name": "python",
   "nbconvert_exporter": "python",
   "pygments_lexer": "ipython3",
   "version": "3.9.10"
  }
 },
 "nbformat": 4,
 "nbformat_minor": 5
}
