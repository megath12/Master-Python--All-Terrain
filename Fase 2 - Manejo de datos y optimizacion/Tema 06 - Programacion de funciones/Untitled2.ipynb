{
 "cells": [
  {
   "cell_type": "code",
   "execution_count": 53,
   "id": "8ad9a7a8",
   "metadata": {},
   "outputs": [
    {
     "name": "stdout",
     "output_type": "stream",
     "text": [
      "Cuantos valores quieres en tu lista?  5\n",
      "[4, 6, 3, 9, 0]\n"
     ]
    }
   ],
   "source": [
    "import random\n",
    "li=[]\n",
    "con=0\n",
    "n=int(input(\"¿Cuantos valores quieres en tu lista?  \"))\n",
    "num=random.randint(0,9)\n",
    "li.append(num)\n",
    "while len(li)!=n:\n",
    "    num=random.randint(0,9)\n",
    "    for l2 in li:\n",
    "        if num==l2:\n",
    "            con+=1\n",
    "    if con==0:\n",
    "        li.append(num)\n",
    "    con=0\n",
    "print(li)"
   ]
  },
  {
   "cell_type": "code",
   "execution_count": null,
   "id": "05bbd078",
   "metadata": {},
   "outputs": [],
   "source": []
  }
 ],
 "metadata": {
  "kernelspec": {
   "display_name": "Python 3 (ipykernel)",
   "language": "python",
   "name": "python3"
  },
  "language_info": {
   "codemirror_mode": {
    "name": "ipython",
    "version": 3
   },
   "file_extension": ".py",
   "mimetype": "text/x-python",
   "name": "python",
   "nbconvert_exporter": "python",
   "pygments_lexer": "ipython3",
   "version": "3.9.10"
  }
 },
 "nbformat": 4,
 "nbformat_minor": 5
}
