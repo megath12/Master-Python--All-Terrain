{
 "cells": [
  {
   "cell_type": "markdown",
   "id": "9c1a1920",
   "metadata": {},
   "source": [
    "# Función enumerate\n",
    "\n",
    "A lo largo de los años me he encontrado que muchos alumnos tenéis dudas con esta función. \n",
    "\n",
    "En esta lección vamos a analizar a fondo su funcionamiento para solucionar cualquier duda al respecto."
   ]
  },
  {
   "cell_type": "markdown",
   "id": "8e793a78",
   "metadata": {},
   "source": [
    "## Generador de índices\n",
    "\n",
    "Hemos aprendido que un enumerador es un generador de índices a partir de una lista, pues nos permite obtener para cada iteración de una lista no solo el valor sino también su índice:"
   ]
  },
  {
   "cell_type": "code",
   "execution_count": 1,
   "id": "e9017a74",
   "metadata": {},
   "outputs": [
    {
     "name": "stdout",
     "output_type": "stream",
     "text": [
      "Hola\n",
      "4\n",
      "Adiós\n",
      "[1, 2, 3]\n"
     ]
    }
   ],
   "source": [
    "elementos = [\"Hola\", 4, \"Adiós\", [1,2,3]]\n",
    "\n",
    "for e in elementos:\n",
    "    print(e)"
   ]
  },
  {
   "cell_type": "code",
   "execution_count": 2,
   "id": "7fa3bffc",
   "metadata": {},
   "outputs": [
    {
     "name": "stdout",
     "output_type": "stream",
     "text": [
      "0 Hola\n",
      "1 4\n",
      "2 Adiós\n",
      "3 [1, 2, 3]\n"
     ]
    }
   ],
   "source": [
    "for i,e in enumerate(elementos):\n",
    "    print(i, e)"
   ]
  },
  {
   "cell_type": "markdown",
   "id": "0a95102e",
   "metadata": {},
   "source": [
    "## ¿Cómo funciona?\n",
    "\n",
    "La parte \"mágica\" del enumerador es que devuelve dos valores cada vez que se llama: el índice y su elemento).\n",
    "\n",
    "Esto es posible gracias a la asignación múltiple de Python que permite asignar más de un valor en la misma línea: "
   ]
  },
  {
   "cell_type": "code",
   "execution_count": 3,
   "id": "c2f3fa79",
   "metadata": {},
   "outputs": [
    {
     "name": "stdout",
     "output_type": "stream",
     "text": [
      "10 50 100\n"
     ]
    }
   ],
   "source": [
    "a, b, c = 10, 50, 100\n",
    "print(a,b,c)"
   ]
  },
  {
   "cell_type": "markdown",
   "id": "1de3b5ce",
   "metadata": {},
   "source": [
    "Esta asignación ordenada de elementos se puede hacer mediante una lista o tupla, una estructura prácticamente igual que una pero inmutable y de la que aprenderemos más en la siguiente unidad:"
   ]
  },
  {
   "cell_type": "code",
   "execution_count": 4,
   "id": "3233e8da",
   "metadata": {},
   "outputs": [
    {
     "name": "stdout",
     "output_type": "stream",
     "text": [
      "10 50 100\n"
     ]
    }
   ],
   "source": [
    "a, b, c = [10, 50, 100]\n",
    "print(a,b,c)"
   ]
  },
  {
   "cell_type": "code",
   "execution_count": 5,
   "id": "1a787d38",
   "metadata": {},
   "outputs": [
    {
     "name": "stdout",
     "output_type": "stream",
     "text": [
      "10 50 100\n"
     ]
    }
   ],
   "source": [
    "a, b, c = (10, 50, 100)\n",
    "print(a,b,c)"
   ]
  },
  {
   "cell_type": "markdown",
   "id": "393a4ca0",
   "metadata": {},
   "source": [
    "Pues de la misma forma que es posible asignar un valor múltiple, éste puede ser devuelto por una función. Y eso precisamente lo que hace el `enumerate` en cada una de sus iteraciones. \n",
    "\n",
    "Si intentamos mostrar qué ese enumerador veremos que es un tipo de dato complejo:"
   ]
  },
  {
   "cell_type": "code",
   "execution_count": 10,
   "id": "02d39e0e",
   "metadata": {},
   "outputs": [
    {
     "data": {
      "text/plain": [
       "<enumerate at 0x2d63dfc4900>"
      ]
     },
     "execution_count": 10,
     "metadata": {},
     "output_type": "execute_result"
    }
   ],
   "source": [
    "enumerate(elementos)"
   ]
  },
  {
   "cell_type": "markdown",
   "id": "175c6dcc",
   "metadata": {},
   "source": [
    "Pero si lo transformamos a una lista todo quedará más claro:"
   ]
  },
  {
   "cell_type": "code",
   "execution_count": 6,
   "id": "35ead881",
   "metadata": {},
   "outputs": [
    {
     "data": {
      "text/plain": [
       "[(0, 'Hola'), (1, 4), (2, 'Adiós'), (3, [1, 2, 3])]"
      ]
     },
     "execution_count": 6,
     "metadata": {},
     "output_type": "execute_result"
    }
   ],
   "source": [
    "elementos = [\"Hola\", 4, \"Adiós\", [1,2,3]]\n",
    "\n",
    "list(enumerate(elementos))"
   ]
  },
  {
   "cell_type": "markdown",
   "id": "ecc9bc32",
   "metadata": {},
   "source": [
    "Lo que obtenemos es una lista de tuplas, cada una con dos elementos, el índice y el valor.\n",
    "\n",
    "Al recorrer esta lista en un `for` vamos obteniendo esas tuplas con indices y valores:"
   ]
  },
  {
   "cell_type": "code",
   "execution_count": 7,
   "id": "722a66cb",
   "metadata": {},
   "outputs": [
    {
     "name": "stdout",
     "output_type": "stream",
     "text": [
      "(0, 'Hola')\n",
      "(1, 4)\n",
      "(2, 'Adiós')\n",
      "(3, [1, 2, 3])\n"
     ]
    }
   ],
   "source": [
    "for tupla in enumerate(elementos):\n",
    "    print(tupla)"
   ]
  },
  {
   "cell_type": "markdown",
   "id": "1fadc63d",
   "metadata": {},
   "source": [
    "Gracias a la asignación múltiple de Python podemos asignar ambos valores a un par de variables para hacer lo que nos convenga:\n",
    "\n"
   ]
  },
  {
   "cell_type": "code",
   "execution_count": 8,
   "id": "52b50d9d",
   "metadata": {},
   "outputs": [
    {
     "name": "stdout",
     "output_type": "stream",
     "text": [
      "0 Hola\n",
      "1 4\n",
      "2 Adiós\n",
      "3 [1, 2, 3]\n"
     ]
    }
   ],
   "source": [
    "for indice, valor in enumerate(elementos):\n",
    "    print(indice, valor)"
   ]
  },
  {
   "cell_type": "markdown",
   "id": "9d973f03",
   "metadata": {},
   "source": [
    "Sin más este es el funcionamiento mágico de la función `enumerate`."
   ]
  },
  {
   "cell_type": "code",
   "execution_count": 10,
   "id": "e182091f",
   "metadata": {},
   "outputs": [
    {
     "name": "stdout",
     "output_type": "stream",
     "text": [
      "['H', 's', 'i', 'a', 's']\n"
     ]
    }
   ],
   "source": [
    "elementos = [\"Hola\", \"dsfsfa\", \"Adiós\", \"asdasd\",\"sadasdads\"]\n",
    "\n",
    "for i,v in enumerate(elementos):\n",
    "    h=v[i]\n",
    "    elementos[i]=h\n",
    "print(elementos)"
   ]
  },
  {
   "cell_type": "code",
   "execution_count": null,
   "id": "eac093be",
   "metadata": {},
   "outputs": [],
   "source": []
  }
 ],
 "metadata": {
  "kernelspec": {
   "display_name": "Python 3 (ipykernel)",
   "language": "python",
   "name": "python3"
  },
  "language_info": {
   "codemirror_mode": {
    "name": "ipython",
    "version": 3
   },
   "file_extension": ".py",
   "mimetype": "text/x-python",
   "name": "python",
   "nbconvert_exporter": "python",
   "pygments_lexer": "ipython3",
   "version": "3.9.10"
  }
 },
 "nbformat": 4,
 "nbformat_minor": 5
}
