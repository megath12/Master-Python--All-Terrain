{
 "cells": [
  {
   "cell_type": "code",
   "execution_count": 6,
   "metadata": {},
   "outputs": [
    {
     "name": "stdout",
     "output_type": "stream",
     "text": [
      "Escibre un numero entero: 3\n",
      "Numero positivo\n"
     ]
    }
   ],
   "source": [
    "t=int(input(\"Escibre un numero entero: \"))\n",
    "if t>0:\n",
    "    print(\"Numero positivo\")\n",
    "elif t<0:\n",
    "    print(\"Numero negativo\")\n",
    "else:\n",
    "    print(\"Tu numero es cero\")\n",
    "    "
   ]
  },
  {
   "cell_type": "code",
   "execution_count": 7,
   "metadata": {},
   "outputs": [
    {
     "name": "stdout",
     "output_type": "stream",
     "text": [
      "Eh verdad\n"
     ]
    }
   ],
   "source": [
    "if True:\n",
    "    print(\"Eh verdad\")"
   ]
  },
  {
   "cell_type": "code",
   "execution_count": 11,
   "metadata": {},
   "outputs": [
    {
     "name": "stdout",
     "output_type": "stream",
     "text": [
      "Cadena 2 es mas larga\n"
     ]
    }
   ],
   "source": [
    "# Variables del ejercicio (no las edites)\n",
    "#from evaluate import cadena_1, cadena_2\n",
    "cadena_1=\"dsdfsdf\"\n",
    "cadena_2=\"ffaafdasf\"\n",
    "\n",
    "# Completa el ejercicio a partir de aquí\n",
    "c1=len(cadena_1)\n",
    "c2=len(cadena_2)\n",
    "if c1>c2:\n",
    "    print(\"Cadena 1 es mas larga\")\n",
    "    resultado=1\n",
    "elif c2>c1:\n",
    "    print(\"Cadena 2 es mas larga\")\n",
    "    resultado=2\n",
    "else:\n",
    "    print(\"Cadenas son iguales\")\n",
    "    resultado=0\n"
   ]
  },
  {
   "cell_type": "code",
   "execution_count": null,
   "metadata": {},
   "outputs": [],
   "source": []
  }
 ],
 "metadata": {
  "kernelspec": {
   "display_name": "Python 3 (ipykernel)",
   "language": "python",
   "name": "python3"
  },
  "language_info": {
   "codemirror_mode": {
    "name": "ipython",
    "version": 3
   },
   "file_extension": ".py",
   "mimetype": "text/x-python",
   "name": "python",
   "nbconvert_exporter": "python",
   "pygments_lexer": "ipython3",
   "version": "3.9.10"
  }
 },
 "nbformat": 4,
 "nbformat_minor": 1
}
