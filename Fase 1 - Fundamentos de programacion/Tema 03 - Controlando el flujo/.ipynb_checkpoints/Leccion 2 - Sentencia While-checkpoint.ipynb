{
 "cells": [
  {
   "cell_type": "code",
   "execution_count": 1,
   "metadata": {},
   "outputs": [
    {
     "name": "stdout",
     "output_type": "stream",
     "text": [
      "'h' vale 0\n",
      "'h' vale 1\n",
      "'h' vale 2\n",
      "'h' vale 3\n",
      "'h' vale 4\n",
      "'h' vale 5\n",
      "'h' vale 6\n",
      "'h' vale 7\n",
      "'h' vale 8\n",
      "'h' vale 9\n",
      "'h' vale 10\n"
     ]
    }
   ],
   "source": [
    "h=0\n",
    "while h<=10:\n",
    "    print(\"\"\"'h' vale\"\"\",h)\n",
    "    h+=1"
   ]
  },
  {
   "cell_type": "code",
   "execution_count": null,
   "metadata": {},
   "outputs": [],
   "source": [
    "k=input(\"Escibre el nombre de la galaxia: \")\n",
    "while k!=\"via lactea\":\n",
    "    k=input(\"Escibre el nombre de la galaxia: \")\n",
    "print(\"Bien hecho\")\n"
   ]
  },
  {
   "cell_type": "code",
   "execution_count": 4,
   "metadata": {},
   "outputs": [
    {
     "name": "stdout",
     "output_type": "stream",
     "text": [
      "0\n",
      "1\n",
      "2\n",
      "pss\n",
      "3\n",
      "4\n",
      "5\n",
      "6\n"
     ]
    }
   ],
   "source": [
    "f=0\n",
    "while f<10:\n",
    "    print(f)\n",
    "    f+=1\n",
    "    if f==3:\n",
    "        pass\n",
    "        print(\"pss\")\n",
    "    if f==7:\n",
    "        break\n",
    "else:\n",
    "    print(\"aqui acaba la \")\n",
    "        "
   ]
  },
  {
   "cell_type": "code",
   "execution_count": 7,
   "metadata": {},
   "outputs": [
    {
     "name": "stdout",
     "output_type": "stream",
     "text": [
      "N° 1\n",
      "N° 2\n",
      "N° 3\n",
      "N° 5\n",
      "N° 6\n",
      "N° 7\n",
      "N° 8\n",
      "aqui acaba la \n"
     ]
    }
   ],
   "source": [
    "f=0\n",
    "while f<8:\n",
    "    f+=1\n",
    "    if f==4:\n",
    "        continue\n",
    "    print(\"N°\",f)\n",
    "else:\n",
    "    print(\"aqui acaba la \")"
   ]
  },
  {
   "cell_type": "code",
   "execution_count": 8,
   "metadata": {},
   "outputs": [
    {
     "name": "stdout",
     "output_type": "stream",
     "text": [
      "\"Escibre lo que deseas hacer\n",
      "      1 Saludo\n",
      "      2 suma de 2 numero\n",
      "      3 despedir \n",
      "      \n",
      "1\n",
      "beunas\n",
      "\"Escibre lo que deseas hacer\n",
      "      1 Saludo\n",
      "      2 suma de 2 numero\n",
      "      3 despedir \n",
      "      \n",
      "2\n",
      "numero 14\n",
      "numero 23\n",
      "\"Escibre lo que deseas hacer\n",
      "      1 Saludo\n",
      "      2 suma de 2 numero\n",
      "      3 despedir \n",
      "      \n",
      "3\n",
      "adios\n"
     ]
    }
   ],
   "source": [
    "while 1:\n",
    "    print(\"\"\"\"Escibre lo que deseas hacer\n",
    "      1 Saludo\n",
    "      2 suma de 2 numero\n",
    "      3 despedir \n",
    "      \"\"\")\n",
    "    s=int(input(\"\"))\n",
    "    if s==1:\n",
    "        print(\"beunas\")\n",
    "    elif s==2:\n",
    "        n1=int(input(\"numero 1\"))\n",
    "        n2=int(input(\"numero 2\"))\n",
    "    elif s==3:\n",
    "        print(\"adios\")\n",
    "        break\n"
   ]
  },
  {
   "cell_type": "code",
   "execution_count": 15,
   "metadata": {},
   "outputs": [
    {
     "name": "stdout",
     "output_type": "stream",
     "text": [
      "Escibre numero: 3\n",
      "Escibre numero: 4\n",
      "Escibre numero: 5\n"
     ]
    }
   ],
   "source": [
    "# Completa el ejercicio\n",
    "numero = int(input(\"Escibre numero: \"))\n",
    "while numero%5 != 0:\n",
    "    numero = int(input(\"Escibre numero: \"))\n",
    "    "
   ]
  }
 ],
 "metadata": {
  "kernelspec": {
   "display_name": "Python 3 (ipykernel)",
   "language": "python",
   "name": "python3"
  },
  "language_info": {
   "codemirror_mode": {
    "name": "ipython",
    "version": 3
   },
   "file_extension": ".py",
   "mimetype": "text/x-python",
   "name": "python",
   "nbconvert_exporter": "python",
   "pygments_lexer": "ipython3",
   "version": "3.9.10"
  }
 },
 "nbformat": 4,
 "nbformat_minor": 1
}
