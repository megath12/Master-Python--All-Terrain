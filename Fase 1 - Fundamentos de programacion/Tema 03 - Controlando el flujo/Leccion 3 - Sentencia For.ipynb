{
 "cells": [
  {
   "cell_type": "code",
   "execution_count": 4,
   "metadata": {},
   "outputs": [
    {
     "name": "stdout",
     "output_type": "stream",
     "text": [
      "0\n",
      "1\n",
      "2\n",
      "3\n",
      "4\n",
      "5\n",
      "6\n",
      "7\n",
      "8\n",
      "9\n",
      "10\n"
     ]
    }
   ],
   "source": [
    "\n",
    "for i in range(11):\n",
    "    print(i)\n",
    "\n"
   ]
  },
  {
   "cell_type": "code",
   "execution_count": 10,
   "metadata": {},
   "outputs": [
    {
     "name": "stdout",
     "output_type": "stream",
     "text": [
      "5\n",
      "6\n",
      "7\n",
      "8\n",
      "9\n",
      "10\n"
     ]
    }
   ],
   "source": [
    "for h in range(5,11):\n",
    "    print(h)"
   ]
  },
  {
   "cell_type": "code",
   "execution_count": 20,
   "metadata": {},
   "outputs": [
    {
     "name": "stdout",
     "output_type": "stream",
     "text": [
      "0\n",
      "2\n",
      "4\n",
      "6\n",
      "8\n",
      "10\n",
      "12\n",
      "14\n",
      "16\n",
      "18\n",
      "20\n",
      "[0, 2, 4, 6, 8, 10, 12, 14, 16, 18, 20]\n",
      "[0, 1, 2, 3, 4, 5, 6, 7, 8, 9, 10, 0, 1, 2, 3, 4, 5, 6, 7, 8, 9, 10]\n"
     ]
    }
   ],
   "source": [
    "h=[]\n",
    "g=[0,1,2,3,4,5,6,7,8,9,10]\n",
    "for j in g:\n",
    "    j*=2\n",
    "    print(j)\n",
    "    h.append(j)\n",
    "print(h)\n",
    "print(g*2)"
   ]
  },
  {
   "cell_type": "code",
   "execution_count": 4,
   "metadata": {},
   "outputs": [
    {
     "name": "stdout",
     "output_type": "stream",
     "text": [
      "0  -  0\n",
      "1  -  11\n",
      "2  -  22\n",
      "3  -  33\n",
      "4  -  44\n",
      "5  -  55\n",
      "6  -  66\n",
      "7  -  77\n",
      "8  -  88\n",
      "9  -  99\n",
      "10  -  110\n",
      "[0, 110, 220, 330, 440, 550, 660, 770, 880, 990, 1100]\n"
     ]
    }
   ],
   "source": [
    "g=[0,11,22,33,44,55,66,77,88,99,110]\n",
    "for indice,numero in enumerate(g):\n",
    "    g[indice]*=10\n",
    "    print(indice,\" - \",numero)\n",
    "print(g)"
   ]
  },
  {
   "cell_type": "code",
   "execution_count": 5,
   "metadata": {},
   "outputs": [
    {
     "name": "stdout",
     "output_type": "stream",
     "text": [
      "B\n",
      "u\n",
      "e\n",
      "n\n",
      "a\n",
      "s\n",
      " \n",
      "t\n",
      "a\n",
      "r\n",
      "d\n",
      "e\n",
      "s\n"
     ]
    }
   ],
   "source": [
    "f=\"Buenas tardes\"\n",
    "for l in f:\n",
    "    print(l)"
   ]
  },
  {
   "cell_type": "code",
   "execution_count": 12,
   "metadata": {},
   "outputs": [
    {
     "name": "stdout",
     "output_type": "stream",
     "text": [
      "escribe un numero23\n",
      "184\n"
     ]
    }
   ],
   "source": [
    "numero=int(input(\"escribe un numero\"))\n",
    "sumatorio=0\n",
    "for i in range(numero+1):\n",
    "    if i%5==0 or i%7==0:\n",
    "        continue\n",
    "    sumatorio+=i\n",
    "print(sumatorio)\n",
    "\n"
   ]
  },
  {
   "cell_type": "code",
   "execution_count": 13,
   "metadata": {},
   "outputs": [
    {
     "name": "stdout",
     "output_type": "stream",
     "text": [
      "184\n"
     ]
    }
   ],
   "source": [
    "# Completa el ejercicio aquí\n",
    "sumatorio = 0\n",
    " \n",
    "# Generamos el bucle entre 0 y el numero+1 (para no excluirlo del range)\n",
    "for n in range(numero+1):\n",
    "    # Si no es múltiple de 5 y 7 lo sumamos\n",
    "    if n % 5 != 0 and n % 7 != 0:\n",
    "        sumatorio += n\n",
    "print(sumatorio)"
   ]
  },
  {
   "cell_type": "code",
   "execution_count": 14,
   "metadata": {},
   "outputs": [
    {
     "name": "stdout",
     "output_type": "stream",
     "text": [
      "numero de 1 a 9: 4\n",
      "[0, 4, 8, 12, 16, 20, 24, 28, 32, 36, 40, 44, 48, 52, 56, 60, 64, 68, 72, 76, 80, 84, 88, 92, 96, 100]\n"
     ]
    }
   ],
   "source": [
    "multiplos = []\n",
    "\n",
    "# Completa el ejercicio \n",
    "numero = int(input(\"numero de 1 a 9: \"))\n",
    "while numero<0 and numero>9:\n",
    "    numero = int(input(\"numero de 1 a 9: \"))\n",
    "\n",
    "for j in range(101):\n",
    "    if j%numero==0:\n",
    "        multiplos.append(j)\n",
    "print(multiplos)\n"
   ]
  },
  {
   "cell_type": "code",
   "execution_count": 16,
   "metadata": {},
   "outputs": [
    {
     "name": "stdout",
     "output_type": "stream",
     "text": [
      "4\n",
      "[0, 4, 8, 12, 16, 20, 24, 28, 32, 36, 40, 44, 48, 52, 56, 60, 64, 68, 72, 76, 80, 84, 88, 92, 96, 100]\n"
     ]
    }
   ],
   "source": [
    "multiplos = []\n",
    " \n",
    "# Empezamos leyendo un número entero por teclado\n",
    "numero = int(input())\n",
    "# Volveremos a leerlo mientras el número no se encuentra entre 0 y 9\n",
    "while numero < 0 or numero > 9:\n",
    "    numero = int(input())\n",
    "# Si el numero es 0, la lista de multiplos solo contendrá un 0, la definimos a mano\n",
    "if numero == 0:\n",
    "    multiplos = [0]\n",
    "# Si el numero no es 0, generamos con range toda la lista de múltiplos entre 0 y 100\n",
    "else:\n",
    "    multiplos = list(range(0, 101, numero))\n",
    "print(multiplos)"
   ]
  },
  {
   "cell_type": "code",
   "execution_count": null,
   "metadata": {},
   "outputs": [],
   "source": []
  }
 ],
 "metadata": {
  "kernelspec": {
   "display_name": "Python 3 (ipykernel)",
   "language": "python",
   "name": "python3"
  },
  "language_info": {
   "codemirror_mode": {
    "name": "ipython",
    "version": 3
   },
   "file_extension": ".py",
   "mimetype": "text/x-python",
   "name": "python",
   "nbconvert_exporter": "python",
   "pygments_lexer": "ipython3",
   "version": "3.9.10"
  }
 },
 "nbformat": 4,
 "nbformat_minor": 1
}
