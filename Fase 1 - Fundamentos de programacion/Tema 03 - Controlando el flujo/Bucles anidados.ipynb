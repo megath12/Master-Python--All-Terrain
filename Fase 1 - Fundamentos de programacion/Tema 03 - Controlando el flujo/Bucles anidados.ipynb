{
 "cells": [
  {
   "cell_type": "markdown",
   "id": "2abcdfa1",
   "metadata": {},
   "source": [
    "# Bucles anidados\n",
    "\n",
    "Cuando hablamos de las listas en la unidad de introducción informal vimos que es posible almacenar información en sublistas dentro de listas:"
   ]
  },
  {
   "cell_type": "code",
   "execution_count": 2,
   "id": "97c4f6e8",
   "metadata": {},
   "outputs": [],
   "source": [
    "lista = [\"Hola\", 10, \"Adiós\", [50, 100, 150]]"
   ]
  },
  {
   "cell_type": "markdown",
   "id": "f64f9df1",
   "metadata": {},
   "source": [
    "Aprendimos que podemos utilizar dobles índices para acceder a los elementos de una sublista en una lista:"
   ]
  },
  {
   "cell_type": "code",
   "execution_count": 4,
   "id": "e2996303",
   "metadata": {},
   "outputs": [
    {
     "data": {
      "text/plain": [
       "[50, 100, 150]"
      ]
     },
     "execution_count": 4,
     "metadata": {},
     "output_type": "execute_result"
    }
   ],
   "source": [
    "lista[-1]"
   ]
  },
  {
   "cell_type": "code",
   "execution_count": 6,
   "id": "fd4223f8",
   "metadata": {},
   "outputs": [
    {
     "data": {
      "text/plain": [
       "50"
      ]
     },
     "execution_count": 6,
     "metadata": {},
     "output_type": "execute_result"
    }
   ],
   "source": [
    "lista[-1][0]"
   ]
  },
  {
   "cell_type": "code",
   "execution_count": 7,
   "id": "39260ff1",
   "metadata": {},
   "outputs": [
    {
     "data": {
      "text/plain": [
       "150"
      ]
     },
     "execution_count": 7,
     "metadata": {},
     "output_type": "execute_result"
    }
   ],
   "source": [
    "lista[-1][-1]"
   ]
  },
  {
   "cell_type": "markdown",
   "id": "109db81b",
   "metadata": {},
   "source": [
    "Evidentemente podemos utilizar una sentencia `for` para recorrer los elementos de esa sublista dinámicamente:"
   ]
  },
  {
   "cell_type": "code",
   "execution_count": 9,
   "id": "0fabbb7f",
   "metadata": {},
   "outputs": [
    {
     "name": "stdout",
     "output_type": "stream",
     "text": [
      "50\n",
      "100\n",
      "150\n"
     ]
    }
   ],
   "source": [
    "for numero in lista[-1]:\n",
    "    print(numero)"
   ]
  },
  {
   "cell_type": "markdown",
   "id": "b90348ba",
   "metadata": {},
   "source": [
    "## Colecciones iterables\n",
    "\n",
    "La parte interesante es que, cuando una lista contiene únicamente colecciones iterables, ya sean otras listas, tuplas, diccionarios o incluso cadenas, podemos recorrer esos subelementos dinámicamente mediante bucles `for` anidados:"
   ]
  },
  {
   "cell_type": "code",
   "execution_count": 21,
   "id": "e43c5c73",
   "metadata": {},
   "outputs": [
    {
     "name": "stdout",
     "output_type": "stream",
     "text": [
      "Esto es un texto -> E\n",
      "Esto es un texto -> s\n",
      "Esto es un texto -> t\n",
      "Esto es un texto -> o\n",
      "Esto es un texto ->  \n",
      "Esto es un texto -> e\n",
      "Esto es un texto -> s\n",
      "Esto es un texto ->  \n",
      "Esto es un texto -> u\n",
      "Esto es un texto -> n\n",
      "Esto es un texto ->  \n",
      "Esto es un texto -> t\n",
      "Esto es un texto -> e\n",
      "Esto es un texto -> x\n",
      "Esto es un texto -> t\n",
      "Esto es un texto -> o\n",
      "(1, 5, 10, 15, 20, 25) -> 1\n",
      "(1, 5, 10, 15, 20, 25) -> 5\n",
      "(1, 5, 10, 15, 20, 25) -> 10\n",
      "(1, 5, 10, 15, 20, 25) -> 15\n",
      "(1, 5, 10, 15, 20, 25) -> 20\n",
      "(1, 5, 10, 15, 20, 25) -> 25\n",
      "['Azul', 'Verde', 'Amarillo'] -> Azul\n",
      "['Azul', 'Verde', 'Amarillo'] -> Verde\n",
      "['Azul', 'Verde', 'Amarillo'] -> Amarillo\n"
     ]
    }
   ],
   "source": [
    "lista = [\n",
    "    \"Esto es un texto\",             # cadena\n",
    "    (1, 5, 10, 15, 20, 25),         # tupla\n",
    "    [\"Azul\", \"Verde\", \"Amarillo\"]   # lista\n",
    "]\n",
    "\n",
    "for coleccion in lista:\n",
    "    for subelemento in coleccion:\n",
    "        print(coleccion, '->', subelemento)"
   ]
  },
  {
   "cell_type": "markdown",
   "id": "13792351",
   "metadata": {},
   "source": [
    "## Enumeradores anidados\n",
    "\n",
    "De la misma forma podemos aplicar enumeradores anidados para conseguir el índice final de cada subelemento de una lista de colecciones."
   ]
  },
  {
   "cell_type": "code",
   "execution_count": 30,
   "id": "f1b2f76f",
   "metadata": {},
   "outputs": [
    {
     "name": "stdout",
     "output_type": "stream",
     "text": [
      "Esto es un texto -> E\n",
      "Esto es un texto -> s\n",
      "Esto es un texto -> t\n",
      "Esto es un texto -> o\n",
      "Esto es un texto ->  \n",
      "Esto es un texto -> e\n",
      "Esto es un texto -> s\n",
      "Esto es un texto ->  \n",
      "Esto es un texto -> u\n",
      "Esto es un texto -> n\n",
      "Esto es un texto ->  \n",
      "Esto es un texto -> t\n",
      "Esto es un texto -> e\n",
      "Esto es un texto -> x\n",
      "Esto es un texto -> t\n",
      "Esto es un texto -> o\n",
      "(1, 5, 10, 15, 20, 25) -> 1\n",
      "(1, 5, 10, 15, 20, 25) -> 5\n",
      "(1, 5, 10, 15, 20, 25) -> 10\n",
      "(1, 5, 10, 15, 20, 25) -> 15\n",
      "(1, 5, 10, 15, 20, 25) -> 20\n",
      "(1, 5, 10, 15, 20, 25) -> 25\n",
      "['Azul', 'Verde', 'Amarillo'] -> Azul\n",
      "['Azul', 'Verde', 'Amarillo'] -> Verde\n",
      "['Azul', 'Verde', 'Amarillo'] -> Amarillo\n"
     ]
    }
   ],
   "source": [
    "lista = [\n",
    "    \"Esto es un texto\",             # cadena\n",
    "    (1, 5, 10, 15, 20, 25),         # tupla\n",
    "    [\"Azul\", \"Verde\", \"Amarillo\"]   # lista\n",
    "]\n",
    "\n",
    "for indice_coleccion, coleccion in enumerate(lista):\n",
    "    for indice_subelemento, subelemento in enumerate(coleccion):\n",
    "        print(lista[indice_coleccion], '->', lista[indice_coleccion][indice_subelemento])  # Acceso por indice"
   ]
  },
  {
   "cell_type": "markdown",
   "id": "82725881",
   "metadata": {},
   "source": [
    "## El concepto de dimensión"
   ]
  },
  {
   "cell_type": "markdown",
   "id": "fbdae652",
   "metadata": {},
   "source": [
    "En la práctica los indices anidados se suelen nombrar como los vectores unitarios (i, j, k...), pues cada uno puede entenderse como una dimensión, siendo `i` el índice de la primera dimensión, `j` el de la segunda, `k` el de la tercera... De manera que concuerdan con el nivel de anidación del bucle:"
   ]
  },
  {
   "cell_type": "code",
   "execution_count": 32,
   "id": "7619e2b4",
   "metadata": {},
   "outputs": [
    {
     "name": "stdout",
     "output_type": "stream",
     "text": [
      "Esto es un texto -> E\n",
      "Esto es un texto -> s\n",
      "Esto es un texto -> t\n",
      "Esto es un texto -> o\n",
      "Esto es un texto ->  \n",
      "Esto es un texto -> e\n",
      "Esto es un texto -> s\n",
      "Esto es un texto ->  \n",
      "Esto es un texto -> u\n",
      "Esto es un texto -> n\n",
      "Esto es un texto ->  \n",
      "Esto es un texto -> t\n",
      "Esto es un texto -> e\n",
      "Esto es un texto -> x\n",
      "Esto es un texto -> t\n",
      "Esto es un texto -> o\n",
      "(1, 5, 10, 15, 20, 25) -> 1\n",
      "(1, 5, 10, 15, 20, 25) -> 5\n",
      "(1, 5, 10, 15, 20, 25) -> 10\n",
      "(1, 5, 10, 15, 20, 25) -> 15\n",
      "(1, 5, 10, 15, 20, 25) -> 20\n",
      "(1, 5, 10, 15, 20, 25) -> 25\n",
      "['Azul', 'Verde', 'Amarillo'] -> Azul\n",
      "['Azul', 'Verde', 'Amarillo'] -> Verde\n",
      "['Azul', 'Verde', 'Amarillo'] -> Amarillo\n"
     ]
    }
   ],
   "source": [
    "# For de la primera dimensión\n",
    "for i, coleccion in enumerate(lista):\n",
    "    # For de la segunda dimensión\n",
    "    for j, subelemento in enumerate(coleccion):\n",
    "        print(lista[i], '->', lista[i][j])"
   ]
  },
  {
   "cell_type": "markdown",
   "id": "74322844",
   "metadata": {},
   "source": [
    "## Tablas y cubos\n",
    "\n",
    "Cuando el número de subelementos es constante, tienen el mismo número de subelementos, podemos imaginar las listas de colecciones como tablas y cubos. Por ejemplo una tabla estaría formada por filas, que sería la altura representada por el índice `i` y las columnas o anchura representadas por el índice `j`:\n",
    "\n",
    "![Tabla](./tabla.png)\n",
    "\n",
    "Uniendo ambos índices conseguiríamos la coordenada de cada celda:"
   ]
  },
  {
   "cell_type": "code",
   "execution_count": 41,
   "id": "efebe865",
   "metadata": {},
   "outputs": [
    {
     "name": "stdout",
     "output_type": "stream",
     "text": [
      "0 0 0 \n",
      "1 1 1 \n",
      "2 2 2 \n"
     ]
    }
   ],
   "source": [
    "tabla = [\n",
    "    [0,0,0],  # primera fila\n",
    "    [1,1,1],  # segunda fila\n",
    "    [2,2,2]   # tercera fila\n",
    "]\n",
    "\n",
    "for i,fila in enumerate(tabla):\n",
    "    for j,columna in enumerate(fila):\n",
    "        print(tabla[i][j], end=\" \")\n",
    "    print()"
   ]
  },
  {
   "cell_type": "markdown",
   "id": "1e0745b1",
   "metadata": {},
   "source": [
    "Si extendemos las dos dimensiones de una tabla añadiendo distintas tablas unas tras otras podemos suponer un cubo tridimensional, como un cubo de Rubik. Para acceder a una celda de este cubo necesitamos ahora los tres índices `i` (alto), `j` (ancho) y `k` (profundidad):\n",
    "\n",
    "![Cubo2](./cubo2.png)\n",
    "\n",
    "Podemos programar un cubo uniendo varias tablas en una lista:"
   ]
  },
  {
   "cell_type": "code",
   "execution_count": 2,
   "id": "9310fd73",
   "metadata": {},
   "outputs": [
    {
     "name": "stdout",
     "output_type": "stream",
     "text": [
      "0\n",
      "1\n",
      "2\n"
     ]
    }
   ],
   "source": [
    "tabla = [\n",
    "    [0,0,0],  # primera fila\n",
    "    [1,1,1],  # segunda fila\n",
    "    [2,2,2]   # tercera fila\n",
    "]\n",
    "\n",
    "cubo = [tabla, tabla, tabla]\n",
    "\n",
    "print(cubo[0][0][0])\n",
    "print(cubo[1][1][1])\n",
    "print(cubo[2][2][2])"
   ]
  },
  {
   "cell_type": "markdown",
   "id": "a230ba80",
   "metadata": {},
   "source": [
    "Ahora utilizando tres bucles for anidados podemos recorrer estas tres dimensiones y ubicar todas las celdas del cubo, teniendo en cuenta que `k` sería el índice de cada tabla en el cubo (profundidad), `i` las filas de las tablas (alto) y `j` las columnas (ancho).\n",
    "\n",
    "![Cubo](./cubo.png)"
   ]
  },
  {
   "cell_type": "markdown",
   "id": "2320dd01",
   "metadata": {},
   "source": [
    "De manera que:"
   ]
  },
  {
   "cell_type": "code",
   "execution_count": 3,
   "id": "d59d7d82",
   "metadata": {},
   "outputs": [
    {
     "name": "stdout",
     "output_type": "stream",
     "text": [
      "0 0 0 \n",
      "1 1 1 \n",
      "2 2 2 \n",
      "\n",
      "0 0 0 \n",
      "1 1 1 \n",
      "2 2 2 \n",
      "\n",
      "0 0 0 \n",
      "1 1 1 \n",
      "2 2 2 \n",
      "\n"
     ]
    }
   ],
   "source": [
    "for k,tabla in enumerate(cubo):\n",
    "    for i,fila in enumerate(tabla):\n",
    "        for j,columna in enumerate(fila):\n",
    "            print(cubo[k][i][j], end=\" \")\n",
    "        print()\n",
    "    print()"
   ]
  },
  {
   "cell_type": "markdown",
   "id": "c4ce6ad2",
   "metadata": {},
   "source": [
    "Al final los cubos, tablas, filas, columnas... son formas de visualizar los datos para entenderlos mejor, pero nada nos impediría tener estructuras mucho más complejas con 4, 5, 6 o más dimensiones. En la práctica solo deberíamos anidar más bucles para recorrer cada dimensión extra y obtener la información."
   ]
  },
  {
   "cell_type": "code",
   "execution_count": 3,
   "id": "e379819c",
   "metadata": {},
   "outputs": [
    {
     "name": "stdout",
     "output_type": "stream",
     "text": [
      "wmsdnfksdnfjhs  -> w\n",
      "wmsdnfksdnfjhs  -> m\n",
      "wmsdnfksdnfjhs  -> s\n",
      "wmsdnfksdnfjhs  -> d\n",
      "wmsdnfksdnfjhs  -> n\n",
      "wmsdnfksdnfjhs  -> f\n",
      "wmsdnfksdnfjhs  -> k\n",
      "wmsdnfksdnfjhs  -> s\n",
      "wmsdnfksdnfjhs  -> d\n",
      "wmsdnfksdnfjhs  -> n\n",
      "wmsdnfksdnfjhs  -> f\n",
      "wmsdnfksdnfjhs  -> j\n",
      "wmsdnfksdnfjhs  -> h\n",
      "wmsdnfksdnfjhs  -> s\n",
      "[12, 43, 65, 323, 12, 343]  -> 12\n",
      "[12, 43, 65, 323, 12, 343]  -> 43\n",
      "[12, 43, 65, 323, 12, 343]  -> 65\n",
      "[12, 43, 65, 323, 12, 343]  -> 323\n",
      "[12, 43, 65, 323, 12, 343]  -> 12\n",
      "[12, 43, 65, 323, 12, 343]  -> 343\n",
      "(1, 2, 3, 4, 5, 6)  -> 1\n",
      "(1, 2, 3, 4, 5, 6)  -> 2\n",
      "(1, 2, 3, 4, 5, 6)  -> 3\n",
      "(1, 2, 3, 4, 5, 6)  -> 4\n",
      "(1, 2, 3, 4, 5, 6)  -> 5\n",
      "(1, 2, 3, 4, 5, 6)  -> 6\n"
     ]
    }
   ],
   "source": [
    "lista=[\"wmsdnfksdnfjhs\",[12,43,65,323,12,343],(1,2,3,4,5,6)]\n",
    "for i in lista:\n",
    "    for j in i:\n",
    "        print(i,\" ->\" ,j)"
   ]
  },
  {
   "cell_type": "code",
   "execution_count": 13,
   "id": "793dc56a",
   "metadata": {},
   "outputs": [
    {
     "name": "stdout",
     "output_type": "stream",
     "text": [
      "1\n",
      "2\n",
      "3\n",
      "4\n",
      "5\n",
      "6\n",
      "7\n",
      "8\n",
      "9\n",
      "1\n",
      "2\n",
      "3\n",
      "4\n",
      "5\n",
      "6\n",
      "7\n",
      "8\n",
      "9\n",
      "1\n",
      "2\n",
      "3\n",
      "4\n",
      "5\n",
      "6\n",
      "7\n",
      "8\n",
      "9\n"
     ]
    }
   ],
   "source": [
    "li=[[1,2,3],[4,5,6],[7,8,9]]\n",
    "li2=[li,li,li]\n",
    "for i,j in enumerate(li2):\n",
    "    for i2,j2 in enumerate(j):\n",
    "        for i3,j3 in enumerate(j2):\n",
    "            print(j,\"\",j2,\"\",j3)"
   ]
  },
  {
   "cell_type": "code",
   "execution_count": 35,
   "id": "d841628d",
   "metadata": {},
   "outputs": [
    {
     "name": "stdout",
     "output_type": "stream",
     "text": [
      "[[0, 0, 0], [0, 1, 1], [1, 0, 1]]\n"
     ]
    }
   ],
   "source": [
    "matriz=[[2,4,0],[4,3,3],[5,2,7]]\n",
    "for i,v in enumerate(matriz):\n",
    "    for i2,v2 in enumerate(v):\n",
    "        if v2==0:\n",
    "            pass\n",
    "        elif v2%2==0:\n",
    "            v2=0\n",
    "        else:\n",
    "            v2=1\n",
    "        #print(v2)\n",
    "        matriz[i][i2]=v2\n",
    "\n",
    "print(matriz)\n"
   ]
  },
  {
   "cell_type": "code",
   "execution_count": null,
   "id": "f2f3ba61",
   "metadata": {},
   "outputs": [],
   "source": []
  }
 ],
 "metadata": {
  "kernelspec": {
   "display_name": "Python 3 (ipykernel)",
   "language": "python",
   "name": "python3"
  },
  "language_info": {
   "codemirror_mode": {
    "name": "ipython",
    "version": 3
   },
   "file_extension": ".py",
   "mimetype": "text/x-python",
   "name": "python",
   "nbconvert_exporter": "python",
   "pygments_lexer": "ipython3",
   "version": "3.9.10"
  }
 },
 "nbformat": 4,
 "nbformat_minor": 5
}
