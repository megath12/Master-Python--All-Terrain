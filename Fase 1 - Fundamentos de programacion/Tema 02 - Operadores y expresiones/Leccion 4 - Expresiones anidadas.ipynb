{
 "cells": [
  {
   "cell_type": "code",
   "execution_count": 1,
   "metadata": {},
   "outputs": [
    {
     "data": {
      "text/plain": [
       "False"
      ]
     },
     "execution_count": 1,
     "metadata": {},
     "output_type": "execute_result"
    }
   ],
   "source": [
    "a=10\n",
    "b=5\n",
    "a*b-2**b >= 20 and not (a%b)!=0 \n",
    "# 50 -32 >= 20 and not (0)!=0\n",
    "# 18 >= 20 and not False\n",
    "# False and True"
   ]
  },
  {
   "cell_type": "code",
   "execution_count": null,
   "metadata": {},
   "outputs": [],
   "source": [
    "# no borres esta línea\n",
    "from evaluate import edad, nombre\n",
    "expresion = nombre!=\"****\" and edad>10 and edad<18 and len(nombre)>=3 and len(nombre)<10\n",
    "# completa el ejercicio"
   ]
  }
 ],
 "metadata": {
  "kernelspec": {
   "display_name": "Python 3 (ipykernel)",
   "language": "python",
   "name": "python3"
  },
  "language_info": {
   "codemirror_mode": {
    "name": "ipython",
    "version": 3
   },
   "file_extension": ".py",
   "mimetype": "text/x-python",
   "name": "python",
   "nbconvert_exporter": "python",
   "pygments_lexer": "ipython3",
   "version": "3.9.10"
  }
 },
 "nbformat": 4,
 "nbformat_minor": 1
}
