{
 "cells": [
  {
   "cell_type": "code",
   "execution_count": 9,
   "metadata": {},
   "outputs": [
    {
     "name": "stdout",
     "output_type": "stream",
     "text": [
      "Hola mundo\n"
     ]
    }
   ],
   "source": [
    "print(\"Hola mundo\")"
   ]
  },
  {
   "cell_type": "code",
   "execution_count": 10,
   "metadata": {},
   "outputs": [
    {
     "name": "stdout",
     "output_type": "stream",
     "text": [
      "Buenas\n"
     ]
    }
   ],
   "source": [
    "print('Buenas')"
   ]
  },
  {
   "cell_type": "code",
   "execution_count": 8,
   "metadata": {},
   "outputs": [
    {
     "name": "stdout",
     "output_type": "stream",
     "text": [
      "Que 'pasa' parce\n"
     ]
    }
   ],
   "source": [
    "print(\"\"\"Que 'pasa' parce\"\"\")"
   ]
  },
  {
   "cell_type": "code",
   "execution_count": 11,
   "metadata": {},
   "outputs": [
    {
     "name": "stdout",
     "output_type": "stream",
     "text": [
      "que 'pasa'\n"
     ]
    }
   ],
   "source": [
    "print(\"que \\'pasa\\'\")"
   ]
  },
  {
   "cell_type": "code",
   "execution_count": 1,
   "metadata": {},
   "outputs": [
    {
     "name": "stdout",
     "output_type": "stream",
     "text": [
      "Que passa\n",
      "calvos\n"
     ]
    }
   ],
   "source": [
    "print(\"Que passa\\ncalvos\")"
   ]
  },
  {
   "cell_type": "code",
   "execution_count": 2,
   "metadata": {},
   "outputs": [
    {
     "name": "stdout",
     "output_type": "stream",
     "text": [
      "Que passa\tcalvoooooooooos\n"
     ]
    }
   ],
   "source": [
    "print(\"Que passa\\tcalvoooooooooos\")"
   ]
  },
  {
   "cell_type": "code",
   "execution_count": 3,
   "metadata": {},
   "outputs": [
    {
     "name": "stdout",
     "output_type": "stream",
     "text": [
      "Que passa calvos\n",
      "gente de poco pelo\n",
      "de pelo pobre\n"
     ]
    }
   ],
   "source": [
    "print(\"\"\"Que passa calvos\n",
    "gente de poco pelo\n",
    "de pelo pobre\"\"\")"
   ]
  },
  {
   "cell_type": "code",
   "execution_count": 8,
   "metadata": {},
   "outputs": [
    {
     "name": "stdout",
     "output_type": "stream",
     "text": [
      "Esto es una cadena\n",
      "con fior\n",
      "\n"
     ]
    }
   ],
   "source": [
    "c=\"Esto es una cadena\\ncon fior\\n\"\n",
    "print(c)"
   ]
  },
  {
   "cell_type": "code",
   "execution_count": 9,
   "metadata": {},
   "outputs": [
    {
     "name": "stdout",
     "output_type": "stream",
     "text": [
      "Esto es una cadena\n",
      "con fior\n",
      "Esto es una cadena\n",
      "con fior\n",
      "Esto es una cadena\n",
      "con fior\n",
      "Esto es una cadena\n",
      "con fior\n",
      "Esto es una cadena\n",
      "con fior\n",
      "\n"
     ]
    }
   ],
   "source": [
    "print(c*5)"
   ]
  },
  {
   "cell_type": "code",
   "execution_count": 11,
   "metadata": {},
   "outputs": [
    {
     "name": "stdout",
     "output_type": "stream",
     "text": [
      "esto funciona asi prrisimo\n"
     ]
    }
   ],
   "source": [
    "s=\"esto funciona\"\" asi prrisimo\"\n",
    "print(s)"
   ]
  },
  {
   "cell_type": "code",
   "execution_count": 12,
   "metadata": {},
   "outputs": [
    {
     "name": "stdout",
     "output_type": "stream",
     "text": [
      "Esto es una cadena\n",
      "con fior\n",
      "esto funciona asi prrisimo\n"
     ]
    }
   ],
   "source": [
    "print(c+s)"
   ]
  },
  {
   "cell_type": "code",
   "execution_count": 13,
   "metadata": {},
   "outputs": [
    {
     "data": {
      "text/plain": [
       "'phn'"
      ]
     },
     "execution_count": 13,
     "metadata": {},
     "output_type": "execute_result"
    }
   ],
   "source": [
    "c=\"python\"\n",
    "c[0]+c[3]+c[5]"
   ]
  },
  {
   "cell_type": "code",
   "execution_count": 19,
   "metadata": {},
   "outputs": [
    {
     "data": {
      "text/plain": [
       "'np'"
      ]
     },
     "execution_count": 19,
     "metadata": {},
     "output_type": "execute_result"
    }
   ],
   "source": [
    "c[-1]+c[-6]"
   ]
  },
  {
   "cell_type": "code",
   "execution_count": 21,
   "metadata": {},
   "outputs": [
    {
     "data": {
      "text/plain": [
       "'pytho'"
      ]
     },
     "execution_count": 21,
     "metadata": {},
     "output_type": "execute_result"
    }
   ],
   "source": [
    "c[0:5]"
   ]
  },
  {
   "cell_type": "code",
   "execution_count": 22,
   "metadata": {},
   "outputs": [
    {
     "data": {
      "text/plain": [
       "'hon'"
      ]
     },
     "execution_count": 22,
     "metadata": {},
     "output_type": "execute_result"
    }
   ],
   "source": [
    "c[3:]"
   ]
  },
  {
   "cell_type": "code",
   "execution_count": 24,
   "metadata": {},
   "outputs": [
    {
     "data": {
      "text/plain": [
       "'thon'"
      ]
     },
     "execution_count": 24,
     "metadata": {},
     "output_type": "execute_result"
    }
   ],
   "source": [
    "c[-4:]"
   ]
  },
  {
   "cell_type": "code",
   "execution_count": 31,
   "metadata": {},
   "outputs": [
    {
     "name": "stdout",
     "output_type": "stream",
     "text": [
      "Ffeuno\n"
     ]
    }
   ],
   "source": [
    "j=\"efeuno\"\n",
    "i=\"F\"\n",
    "j=i+j[1:]\n",
    "print(j)"
   ]
  },
  {
   "cell_type": "code",
   "execution_count": 33,
   "metadata": {},
   "outputs": [
    {
     "name": "stdout",
     "output_type": "stream",
     "text": [
      "Ramón García,7.6,Historia\n"
     ]
    }
   ],
   "source": [
    "cadena_corrupta = \"airotsiH,6.7,aícraG nómaR\"\n",
    "k= cadena_corrupta[::-1]\n",
    "print(k)"
   ]
  },
  {
   "cell_type": "code",
   "execution_count": 34,
   "metadata": {},
   "outputs": [
    {
     "name": "stdout",
     "output_type": "stream",
     "text": [
      "Ramón García,7.6,Historia\n",
      "Ramón García\n",
      "7.6\n",
      "Historia\n",
      "Ramón García ha sacado un 7.6 en Historia\n"
     ]
    }
   ],
   "source": [
    "# Variables del ejercicio (no las modifiques)\n",
    "cadena_corrupta = \"airotsiH,6.7,aícraG nómaR\"\n",
    "cadena_volteada = cadena_corrupta[::-1]\n",
    "print(cadena_volteada)\n",
    "nombre=cadena_volteada[:12]\n",
    "print(nombre)\n",
    "nota=cadena_volteada[13:16]\n",
    "print(nota)\n",
    "materia=cadena_volteada[17:]\n",
    "print(materia)\n",
    "cadena_formateada=nombre+\" ha sacado un \"+nota+\" en \"+materia\n",
    "print(cadena_formateada)"
   ]
  },
  {
   "cell_type": "code",
   "execution_count": null,
   "metadata": {},
   "outputs": [],
   "source": []
  }
 ],
 "metadata": {
  "anaconda-cloud": {},
  "kernelspec": {
   "display_name": "Python 3 (ipykernel)",
   "language": "python",
   "name": "python3"
  },
  "language_info": {
   "codemirror_mode": {
    "name": "ipython",
    "version": 3
   },
   "file_extension": ".py",
   "mimetype": "text/x-python",
   "name": "python",
   "nbconvert_exporter": "python",
   "pygments_lexer": "ipython3",
   "version": "3.9.10"
  }
 },
 "nbformat": 4,
 "nbformat_minor": 1
}
